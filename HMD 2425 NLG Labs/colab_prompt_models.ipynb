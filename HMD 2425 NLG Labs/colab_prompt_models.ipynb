{
 "cells": [
  {
   "cell_type": "markdown",
   "id": "2fbfcbbe-7b3a-4389-bf3f-07a97c98d17b",
   "metadata": {
    "id": "2fbfcbbe-7b3a-4389-bf3f-07a97c98d17b"
   },
   "source": [
    "# Generation with LLMs"
   ]
  },
  {
   "cell_type": "code",
   "execution_count": 1,
   "id": "ZCjacPY7_abX",
   "metadata": {
    "colab": {
     "base_uri": "https://localhost:8080/"
    },
    "executionInfo": {
     "elapsed": 27766,
     "status": "ok",
     "timestamp": 1732100390238,
     "user": {
      "displayName": "Simone Alghisi",
      "userId": "03730826461482842686"
     },
     "user_tz": -60
    },
    "id": "ZCjacPY7_abX",
    "outputId": "f63c18c6-dcce-45f3-82a8-ce16b2d2e535"
   },
   "outputs": [
    {
     "name": "stdout",
     "output_type": "stream",
     "text": [
      "Mounted at /content/drive\n"
     ]
    }
   ],
   "source": [
    "from google.colab import drive\n",
    "\n",
    "# mount google drive\n",
    "drive.mount('/content/drive')"
   ]
  },
  {
   "cell_type": "code",
   "execution_count": 2,
   "id": "ZNNdUDmMBdt2",
   "metadata": {
    "colab": {
     "base_uri": "https://localhost:8080/"
    },
    "executionInfo": {
     "elapsed": 4,
     "status": "ok",
     "timestamp": 1732100390238,
     "user": {
      "displayName": "Simone Alghisi",
      "userId": "03730826461482842686"
     },
     "user_tz": -60
    },
    "id": "ZNNdUDmMBdt2",
    "outputId": "619ac5b7-2588-41c5-eb04-84a9473c0c0d"
   },
   "outputs": [
    {
     "name": "stdout",
     "output_type": "stream",
     "text": [
      "env: HF_HOME=/content/drive/MyDrive/HMD/cache\n"
     ]
    }
   ],
   "source": [
    "# set the models folder, HuggingFace will look into this folder and download the model if needed\n",
    "%env HF_HOME=/content/drive/MyDrive/HMD/cache"
   ]
  },
  {
   "cell_type": "markdown",
   "id": "1ae2ba22-bd98-4463-a846-dbd19d1a0495",
   "metadata": {
    "id": "1ae2ba22-bd98-4463-a846-dbd19d1a0495"
   },
   "source": [
    "We will use ```Llama2-7b-chat``` and ```Llama-3-8B-Instruct```.\n",
    "These models are fine-tuned versions of the base models.\n",
    "Since the models were prompted with specific templates during fine-tuning, we will use the same templates to have the models be in the best conditions."
   ]
  },
  {
   "cell_type": "code",
   "execution_count": 4,
   "id": "2ff04792-e2fc-4c9a-8f92-766193c5ae9b",
   "metadata": {
    "executionInfo": {
     "elapsed": 269,
     "status": "ok",
     "timestamp": 1732100404646,
     "user": {
      "displayName": "Simone Alghisi",
      "userId": "03730826461482842686"
     },
     "user_tz": -60
    },
    "id": "2ff04792-e2fc-4c9a-8f92-766193c5ae9b"
   },
   "outputs": [],
   "source": [
    "MODELS = {\n",
    "    \"llama2\": \"meta-llama/Llama-2-7b-chat-hf\",\n",
    "    \"llama3\": \"meta-llama/Meta-Llama-3-8B-Instruct\",\n",
    "}\n",
    "\n",
    "TEMPLATES = {\n",
    "    \"llama2\": \"<s>[INST] <<SYS>>\\n{}\\n<</SYS>>\\n\\n{} [/INST]\",\n",
    "    \"llama3\": \"<|begin_of_text|><|start_header_id|>system<|end_header_id|>\\n\\n{}<|eot_id|><|start_header_id|>user<|end_header_id|>\\n\\n{}<|eot_id|><|start_header_id|>assistant<|end_header_id|>\",\n",
    "}"
   ]
  },
  {
   "cell_type": "markdown",
   "id": "V-wipF122S0G",
   "metadata": {
    "id": "V-wipF122S0G"
   },
   "source": [
    "## Create Huggingface Access Token\n",
    "\n",
    "1. Create an account on [HuggingFace](https://huggingface.co/join)\n",
    "2. Log in on [HuggingFace](https://huggingface.co/login)\n",
    "3. [Create a new access token](https://huggingface.co/settings/tokens)\n",
    "\n",
    "    1. Click on \"Create New Access Token\"\n",
    "    2. Select \"Read\" as Token Type\n",
    "    3. Give it a name, e.g. HMD\n",
    "    4. Create and \"Copy\" it, you won't be able to do it afterwards\n",
    "    5. Paste it in the cell below to use it as an environment variable"
   ]
  },
  {
   "cell_type": "code",
   "execution_count": null,
   "id": "MYGvO5a4417e",
   "metadata": {
    "id": "MYGvO5a4417e"
   },
   "outputs": [],
   "source": [
    "# do not add quotes or double quotes, just replace the paste the token\n",
    "%env HF_TOKEN=..."
   ]
  },
  {
   "cell_type": "markdown",
   "id": "_67aC_J34_Qs",
   "metadata": {
    "id": "_67aC_J34_Qs"
   },
   "source": [
    "## Download the models (Only The first time)\n",
    "\n",
    "1. Request access for [LLaMA 2](https://huggingface.co/meta-llama/Llama-2-7b-chat-hf) and [LLaMA 3](https://huggingface.co/meta-llama/Meta-Llama-3-8B-Instruct) by following the instructions on their HuggingFace page\n",
    "2. After having been granted access, run the code below to download the models (you will require 28GB of space)"
   ]
  },
  {
   "cell_type": "code",
   "execution_count": null,
   "id": "REV7w88O578u",
   "metadata": {
    "colab": {
     "base_uri": "https://localhost:8080/",
     "height": 99,
     "referenced_widgets": [
      "93003d4a25da4177b871bfbe66c23e9a",
      "83ad52b5eae44264a64109a9c4e72122",
      "ddc112f8799a42c8bfd8f72e712435c0",
      "ef6f1daeebd24a1c82715a5aff77e967",
      "88d8d77ed5fa4a49a719716ee584de59",
      "298529c9a4214f26ab2bd9935dd89630",
      "b6afe76da067454bac56d2b5b4a93729",
      "d0bb3f0aca524832bf613ef3f1275ade",
      "53ed7b2ba46f43bfa9ab0fde19fc819f",
      "be373cf06ffa440b8c2988fd5d4800d7",
      "d2b18283577248749538e8ff16f65e54",
      "d5d74bf13b5b4305beec14186a320349",
      "882dda8de0e04421bf8c41efe0ff50d3",
      "8cbb0d9aa9f5415ea71fa5007eb55838",
      "cbe05d191acd4370854a45df64b1065c",
      "1f6e0617d70f409bb21908d52d6a0c1a",
      "91694bf4beac43ec8b51cab985541bc5",
      "ce98c9fd13094cf7b755e1fba226a667",
      "b5683cf5136b49ec982b634d4a0a2bb9",
      "496f37f6e85a489ea428fed02a491898",
      "04b24eeb1e4c46d1aa73e08dc1a57515",
      "cd1048c02e2e49cc88bd49f8bfe3347e"
     ]
    },
    "executionInfo": {
     "elapsed": 678994,
     "status": "ok",
     "timestamp": 1732099853413,
     "user": {
      "displayName": "Simone Alghisi",
      "userId": "03730826461482842686"
     },
     "user_tz": -60
    },
    "id": "REV7w88O578u",
    "outputId": "be9b75ca-9129-43e4-b3f7-7b45025f0391"
   },
   "outputs": [],
   "source": [
    "from transformers import AutoModelForCausalLM, AutoTokenizer\n",
    "import torch\n",
    "\n",
    "def download_models(models):\n",
    "    for model_name in models.values():\n",
    "        # triggers download of the models\n",
    "        AutoModelForCausalLM.from_pretrained(\n",
    "            model_name,\n",
    "            device_map=\"auto\",\n",
    "            torch_dtype=torch.float16\n",
    "        )\n",
    "        AutoTokenizer.from_pretrained(model_name)\n",
    "\n",
    "download_models(MODELS)"
   ]
  },
  {
   "cell_type": "markdown",
   "id": "eRG_mtQy7qH8",
   "metadata": {
    "id": "eRG_mtQy7qH8"
   },
   "source": [
    "## Prompt the models"
   ]
  },
  {
   "cell_type": "markdown",
   "id": "3364287e-938c-4b06-9ff8-3de282d400be",
   "metadata": {
    "id": "3364287e-938c-4b06-9ff8-3de282d400be"
   },
   "source": [
    "Import the required libraries and classes."
   ]
  },
  {
   "cell_type": "code",
   "execution_count": 5,
   "id": "4aa0a617-fe82-480d-978a-7dad80c620b4",
   "metadata": {
    "executionInfo": {
     "elapsed": 15580,
     "status": "ok",
     "timestamp": 1732100458968,
     "user": {
      "displayName": "Simone Alghisi",
      "userId": "03730826461482842686"
     },
     "user_tz": -60
    },
    "id": "4aa0a617-fe82-480d-978a-7dad80c620b4"
   },
   "outputs": [],
   "source": [
    "import torch\n",
    "\n",
    "from typing import Tuple\n",
    "from transformers import AutoModelForCausalLM, AutoTokenizer, BatchEncoding, PreTrainedTokenizer, PreTrainedModel"
   ]
  },
  {
   "cell_type": "markdown",
   "id": "8f6d8215-8964-4723-ad56-81603d5091fd",
   "metadata": {
    "id": "8f6d8215-8964-4723-ad56-81603d5091fd"
   },
   "source": [
    "Functions for loading the models and generate responses."
   ]
  },
  {
   "cell_type": "code",
   "execution_count": 6,
   "id": "dc3f507a-a643-4c5f-b049-225846e146be",
   "metadata": {
    "executionInfo": {
     "elapsed": 17,
     "status": "ok",
     "timestamp": 1732100458968,
     "user": {
      "displayName": "Simone Alghisi",
      "userId": "03730826461482842686"
     },
     "user_tz": -60
    },
    "id": "dc3f507a-a643-4c5f-b049-225846e146be"
   },
   "outputs": [],
   "source": [
    "def load_model(model_name: str, dtype) -> Tuple[PreTrainedModel, PreTrainedTokenizer]:\n",
    "    torch_dtype = torch.float32\n",
    "    if dtype == \"bf16\":\n",
    "        torch_dtype = torch.bfloat16\n",
    "    model = AutoModelForCausalLM.from_pretrained(\n",
    "        model_name,\n",
    "        device_map=\"auto\",\n",
    "        torch_dtype=torch_dtype,\n",
    "\n",
    "    )\n",
    "    tokenizer = AutoTokenizer.from_pretrained(model_name)\n",
    "    return model, tokenizer\n",
    "\n",
    "def generate(\n",
    "    model: PreTrainedModel,\n",
    "    inputs: BatchEncoding,\n",
    "    tokenizer: PreTrainedTokenizer,\n",
    "    max_seq_length: int,\n",
    ") -> str:\n",
    "    output = model.generate(\n",
    "        inputs.input_ids,\n",
    "        attention_mask=inputs.attention_mask,\n",
    "        max_length=max_seq_length,\n",
    "        pad_token_id=tokenizer.eos_token_id,\n",
    "    )\n",
    "    return tokenizer.decode(\n",
    "        output[0][len(inputs.input_ids[0]) :], skip_special_tokens=True\n",
    "    )"
   ]
  },
  {
   "cell_type": "markdown",
   "id": "d8f84fca-854a-411d-b00f-4f105e039687",
   "metadata": {
    "id": "d8f84fca-854a-411d-b00f-4f105e039687"
   },
   "source": [
    "Parameters and input for the generation."
   ]
  },
  {
   "cell_type": "code",
   "execution_count": null,
   "id": "8f467dec-07e5-409f-bff1-5a5dcfa2b0ed",
   "metadata": {
    "executionInfo": {
     "elapsed": 17,
     "status": "ok",
     "timestamp": 1732100458969,
     "user": {
      "displayName": "Simone Alghisi",
      "userId": "03730826461482842686"
     },
     "user_tz": -60
    },
    "id": "8f467dec-07e5-409f-bff1-5a5dcfa2b0ed"
   },
   "outputs": [],
   "source": [
    "model_name = \"llama3\"\n",
    "chat_template = TEMPLATES[model_name]\n",
    "model_name = MODELS[model_name]\n",
    "\n",
    "dtype = \"bf16\"\n",
    "max_seq_length = 512"
   ]
  },
  {
   "cell_type": "markdown",
   "id": "892d3a6f-64d3-46d9-a56f-554c24d76695",
   "metadata": {
    "id": "892d3a6f-64d3-46d9-a56f-554c24d76695"
   },
   "source": [
    "Load the model and tokenizer based on the parameters."
   ]
  },
  {
   "cell_type": "code",
   "execution_count": null,
   "id": "91bb702d-26e1-4d3d-a475-746efbc58914",
   "metadata": {
    "colab": {
     "base_uri": "https://localhost:8080/",
     "height": 176,
     "referenced_widgets": [
      "c3404f762598443da0f147f33cae755d",
      "5dae29c158f240e3b68695d2e326ab92",
      "06b9831997f944de96c5e76ca4c3da81",
      "2b7b981ff9054794943b066cb36ac951",
      "ad07bc379abc4bf2a733b0008c5356e0",
      "b3c5d334d9544af9a96f71c2d37882f6",
      "032751c18c5947a28533b5c5a5576d80",
      "65d5e8fd7e9a45f483bbd55204b1ef0f",
      "9a8faff6650f40bc891fcd1a2360532c",
      "3567f0f289d045b1a8c525035975b6ff",
      "598287ed5e4b430097ce2d11bb6eb721"
     ]
    },
    "executionInfo": {
     "elapsed": 372807,
     "status": "ok",
     "timestamp": 1732100837873,
     "user": {
      "displayName": "Simone Alghisi",
      "userId": "03730826461482842686"
     },
     "user_tz": -60
    },
    "id": "91bb702d-26e1-4d3d-a475-746efbc58914",
    "outputId": "fa0a2ef5-d9be-40c2-a7e7-2592b0534db8"
   },
   "outputs": [],
   "source": [
    "model, tokenizer = load_model(model_name, dtype)"
   ]
  },
  {
   "cell_type": "markdown",
   "id": "83bcaa3c",
   "metadata": {},
   "source": [
    "### Segment into into multiple sentences"
   ]
  },
  {
   "cell_type": "code",
   "execution_count": null,
   "id": "8652d419",
   "metadata": {},
   "outputs": [],
   "source": [
    "segmentor_prompt = \"\"\"\n",
    "Break the user input into multiple sentences based on the following intents:\n",
    "- pizza_ordering, if the user wants to order a pizza.\n",
    "- request_info(drink_type), if the user wants to which drinks are available.\n",
    "- out_of_domain, if the input does not match any of the above.\n",
    "Only provide the sentences, without the intent in list separated by commas, as follows\n",
    "[\"sentence1\", \"sentence2\", ...]\n",
    "Only provide the list.\n",
    "\"\"\"\n",
    "\n",
    "user_input = \"I would like to order margherita pizza, please. Which kind of drinks do you have.\""
   ]
  },
  {
   "cell_type": "code",
   "execution_count": null,
   "id": "b20d7bef",
   "metadata": {},
   "outputs": [
    {
     "name": "stdout",
     "output_type": "stream",
     "text": [
      "\n",
      "\n",
      "[\"I would like to order a margherita pizza.\", \"Which kind of drinks do you have?\"]\n"
     ]
    }
   ],
   "source": [
    "# Format and tokenize the input\n",
    "input_text = chat_template.format(segmentor_prompt, user_input)\n",
    "inputs = tokenizer(input_text, return_tensors=\"pt\").to(model.device)\n",
    "\n",
    "# Generate a response\n",
    "response = generate(model, inputs, tokenizer, max_seq_length)\n",
    "print(response)"
   ]
  },
  {
   "cell_type": "code",
   "execution_count": null,
   "id": "94142f60",
   "metadata": {},
   "outputs": [
    {
     "data": {
      "text/plain": [
       "['I would like to order a margherita pizza, please.',\n",
       " 'What drinks are available?']"
      ]
     },
     "metadata": {},
     "output_type": "display_data"
    }
   ],
   "source": [
    "import json\n",
    "\n",
    "json.loads(response)"
   ]
  },
  {
   "cell_type": "markdown",
   "id": "8dd25303",
   "metadata": {},
   "source": [
    "### NLU"
   ]
  },
  {
   "cell_type": "code",
   "execution_count": null,
   "id": "dbcf6bb3",
   "metadata": {},
   "outputs": [],
   "source": [
    "nlu_system_prompt = \"\"\"Identify the user intent from this list: \n",
    "[pizza_ordering, pizza_delivery, drink_ordering, out_of_domain].\n",
    "If the intent is pizza_ordering, extract the following slot values from the user input\n",
    "- pizza_size, the size of the pizza\n",
    "- pizza_type, the type of pizza\n",
    "- pizza_count, the number of pizzas.\n",
    "If no values are present in the user input you have to put null as the value.\n",
    "Output them in a json format.\n",
    "Only output the json file.\n",
    "The json format is: \n",
    "{\n",
    "    \"intent\": \"intent_value\", \n",
    "    \"slots\": {\n",
    "        \"slot1\": \"value1\",\n",
    "        \"slot2\": \"value2\",\n",
    "        \"slot3\": \"value3\"\n",
    "    }\n",
    "}\"\"\"\n",
    "\n",
    "nlu_input = \"I would like to order margherita pizza, please.\""
   ]
  },
  {
   "cell_type": "code",
   "execution_count": null,
   "id": "cb2e1e45",
   "metadata": {},
   "outputs": [
    {
     "name": "stdout",
     "output_type": "stream",
     "text": [
      "\n",
      "\n",
      "{\n",
      "    \"intent\": \"pizza_ordering\", \n",
      "    \"slots\": {\n",
      "        \"pizza_type\": \"margherita\",\n",
      "        \"pizza_size\": null,\n",
      "        \"pizza_count\": null\n",
      "    }\n",
      "}\n"
     ]
    }
   ],
   "source": [
    "# Format and tokenize the input\n",
    "input_text = chat_template.format(nlu_system_prompt, nlu_input)\n",
    "inputs = tokenizer(input_text, return_tensors=\"pt\").to(model.device)\n",
    "\n",
    "# Generate a response\n",
    "response = generate(model, inputs, tokenizer, max_seq_length)\n",
    "print(response)"
   ]
  },
  {
   "cell_type": "markdown",
   "id": "6ff44bc5",
   "metadata": {},
   "source": [
    "### DST"
   ]
  },
  {
   "cell_type": "code",
   "execution_count": null,
   "id": "6822b273",
   "metadata": {},
   "outputs": [],
   "source": [
    "from copy import deepcopy\n",
    "\n",
    "def clean_response(response: dict) -> dict:\n",
    "    final_dict = deepcopy(response)\n",
    "    for key, value in response.items():\n",
    "        if value == None:\n",
    "            del final_dict[key]\n",
    "        elif isinstance(value, dict):\n",
    "            cleaned_dict = clean_response(deepcopy(value))\n",
    "            if len(cleaned_dict) == 0:\n",
    "                del final_dict[key]\n",
    "            else:\n",
    "                final_dict[key] = cleaned_dict\n",
    "    return final_dict\n",
    "\n",
    "\n",
    "def update_ds(ds: dict, nlu_response: dict) -> dict:\n",
    "    for key, value in nlu_response.items():\n",
    "        if value is None:\n",
    "            continue\n",
    "        elif isinstance(value, str):\n",
    "            ds[key] = value\n",
    "        elif isinstance(value, dict):\n",
    "            ds[key] = update_ds(ds[key], value)\n",
    "    \n",
    "    return ds\n",
    "\n"
   ]
  },
  {
   "cell_type": "code",
   "execution_count": null,
   "id": "4950e102",
   "metadata": {},
   "outputs": [
    {
     "data": {
      "text/plain": [
       "{'intent': 'pizza_ordering',\n",
       " 'slots': {'pizza_type': 'margherita',\n",
       "  'pizza_size': 'medium',\n",
       "  'pizza_count': None}}"
      ]
     },
     "metadata": {},
     "output_type": "display_data"
    }
   ],
   "source": [
    "import json\n",
    "\n",
    "dialogue_state = {\n",
    "    \"intent\": \"pizza_ordering\",\n",
    "    \"slots\": {\n",
    "        \"pizza_type\": \"margherita\",\n",
    "        \"pizza_size\": None,\n",
    "        \"pizza_count\": None\n",
    "    }\n",
    "}\n",
    "\n",
    "nlu_response = \"\"\"{\n",
    "    \"intent\": \"pizza_ordering\", \n",
    "    \"slots\": {\n",
    "        \"pizza_type\": null,\n",
    "        \"pizza_size\": \"medium\",\n",
    "        \"pizza_count\": null\n",
    "    }\n",
    "}\"\"\"\n",
    "\n",
    "\n",
    "nlu_response = json.loads(nlu_response)\n",
    "update_ds(dialogue_state, clean_response(nlu_response))"
   ]
  },
  {
   "cell_type": "markdown",
   "id": "b78790dd",
   "metadata": {},
   "source": [
    "### DM"
   ]
  },
  {
   "cell_type": "code",
   "execution_count": null,
   "id": "a9257e83",
   "metadata": {},
   "outputs": [],
   "source": [
    "dm_system_prompt = \"\"\"You are the Dialogue Manager.\n",
    "Given the output of the NLU component, you should only generate the next best action from this list:\n",
    "- request_info(slot), if a slot value is missing (null) by substituting slot with the missing slot name\n",
    "- confirmation(intent), if all slots have been filled\"\"\"\n",
    "\n",
    "dm_input = \"\"\"\n",
    "{\n",
    "    \"intent\": \"pizza_ordering\",\n",
    "    \"slots\": {\n",
    "        \"pizza_size\": null,\n",
    "        \"pizza_type\": \"margherita\",\n",
    "        \"pizza_count\": null\n",
    "    }\n",
    "}\"\"\""
   ]
  },
  {
   "cell_type": "code",
   "execution_count": null,
   "id": "d55d901c",
   "metadata": {},
   "outputs": [
    {
     "name": "stdout",
     "output_type": "stream",
     "text": [
      "\n",
      "\n",
      "request_info(\"pizza_size\")\n"
     ]
    }
   ],
   "source": [
    "# Format and tokenize the input\n",
    "input_text = chat_template.format(dm_system_prompt, dm_input)\n",
    "inputs = tokenizer(input_text, return_tensors=\"pt\").to(model.device)\n",
    "\n",
    "# Generate a response\n",
    "response = generate(model, inputs, tokenizer, max_seq_length)\n",
    "print(response)"
   ]
  },
  {
   "cell_type": "markdown",
   "id": "0248d9a9",
   "metadata": {},
   "source": [
    "### NLG"
   ]
  },
  {
   "cell_type": "code",
   "execution_count": null,
   "id": "424b4782",
   "metadata": {},
   "outputs": [],
   "source": [
    "nlg_system_prompt = \"\"\"You are the NLG component: you must be very polite.\n",
    "Given the next best action classified by the Dialogue Manager (DM), \n",
    "you should only generate a lexicalized response for the user.\n",
    "Possible next best actions are:\n",
    "- request_info(slot): generate an appropriate question to ask the user for the missing slot value \n",
    "- confirmation(intent): generate an appropriate confirmation message for the user intent\"\"\"\n",
    "\n",
    "nlg_input = \"\"\"\n",
    "{\n",
    "    \"NLU\" : {\n",
    "        \"intent\": \"pizza_ordering\",\n",
    "        \"slots\": {\n",
    "            \"pizza_size\": null,\n",
    "            \"pizza_type\": \"margherita\",\n",
    "            \"pizza_count\": null\n",
    "        }\n",
    "    },\n",
    "    \"DM\": {\n",
    "        \"next_best_action\": \"request_info(pizza_size)\"\n",
    "    }\n",
    "\"\"\""
   ]
  },
  {
   "cell_type": "code",
   "execution_count": null,
   "id": "07d152f7",
   "metadata": {},
   "outputs": [
    {
     "name": "stdout",
     "output_type": "stream",
     "text": [
      "\n",
      "\n",
      "What size pizza would you like to order?\n"
     ]
    }
   ],
   "source": [
    "# Format and tokenize the input\n",
    "input_text = chat_template.format(nlg_system_prompt, nlg_input)\n",
    "inputs = tokenizer(input_text, return_tensors=\"pt\").to(model.device)\n",
    "\n",
    "# Generate a response\n",
    "response = generate(model, inputs, tokenizer, max_seq_length)\n",
    "print(response)"
   ]
  },
  {
   "cell_type": "markdown",
   "id": "d2f0a71c",
   "metadata": {},
   "source": [
    "### Full pipeline"
   ]
  },
  {
   "cell_type": "code",
   "execution_count": null,
   "id": "0ec6c630",
   "metadata": {},
   "outputs": [],
   "source": [
    "# Format and tokenize the input\n",
    "user_input = \"I would like a small margherita pizza.\"\n",
    "input_text = chat_template.format(nlu_system_prompt, user_input)\n",
    "inputs = tokenizer(input_text, return_tensors=\"pt\").to(model.device)\n",
    "nlu_response = generate(model, inputs, tokenizer, max_seq_length)\n",
    "\n",
    "\n",
    "input_text = chat_template.format(dm_system_prompt, nlu_response)\n",
    "inputs = tokenizer(input_text, return_tensors=\"pt\").to(model.device)\n",
    "dm_response = generate(model, inputs, tokenizer, max_seq_length)\n",
    "\n",
    "\n",
    "input_text = chat_template.format(nlg_system_prompt, dm_response)\n",
    "inputs = tokenizer(input_text, return_tensors=\"pt\").to(model.device)\n",
    "nlg_response = generate(model, inputs, tokenizer, max_seq_length)"
   ]
  },
  {
   "cell_type": "code",
   "execution_count": null,
   "id": "b65c8322",
   "metadata": {},
   "outputs": [
    {
     "name": "stdout",
     "output_type": "stream",
     "text": [
      "User: I would like a small margherita pizza.\n",
      "NLU: \n",
      "\n",
      "{\n",
      "    \"intent\": \"pizza_ordering\", \n",
      "    \"slots\": {\n",
      "        \"pizza_size\": null,\n",
      "        \"pizza_type\": \"margherita\",\n",
      "        \"pizza_count\": null\n",
      "    }\n",
      "}\n",
      "DM: \n",
      "\n",
      "request_info(\"pizza_size\")\n",
      "NLG: \n",
      "\n",
      "What size pizza would you like to order? Would you prefer a small, medium, large, or extra-large pie?\n"
     ]
    }
   ],
   "source": [
    "print(f\"User: {user_input}\")\n",
    "\n",
    "print(f\"NLU: {nlu_response}\")\n",
    "\n",
    "print(f\"DM: {dm_response}\")\n",
    "\n",
    "print(f\"NLG: {nlg_response}\")"
   ]
  },
  {
   "cell_type": "markdown",
   "id": "26dbf4c5-6844-4477-a255-65519754d516",
   "metadata": {
    "id": "26dbf4c5-6844-4477-a255-65519754d516"
   },
   "source": [
    "### Parameters"
   ]
  },
  {
   "cell_type": "markdown",
   "id": "f9e02e13-e9d6-4033-ae7e-b1b9b8e40c53",
   "metadata": {
    "id": "f9e02e13-e9d6-4033-ae7e-b1b9b8e40c53"
   },
   "source": [
    "Parameters for the underlying python script:\n",
    "\n",
    "```\n",
    "usage: python -m query_model [-h] [--system-prompt SYSTEM_PROMPT] [--dtype {f32,bf16}] [--max_seq_length MAX_SEQ_LENGTH] [--return-full] [--dotenv-path DOTENV_PATH] {llama2,llama3} INPUT_TEXT\n",
    "\n",
    "Query a specific model with a given input.\n",
    "\n",
    "positional arguments:\n",
    "  {llama2,llama3}       The model to query.\n",
    "  INPUT_TEXT            The input to query the model with.\n",
    "\n",
    "options:\n",
    "  -h, --help            show this help message and exit\n",
    "  --system-prompt SYSTEM_PROMPT\n",
    "                        The system prompt to use for the model. (default: )\n",
    "  --dtype {f32,bf16}    The data type to use for the model. (default: f32)\n",
    "  --max_seq_length MAX_SEQ_LENGTH\n",
    "                        The maximum sequence length to use for the model. (default: 128)\n",
    "```"
   ]
  }
 ],
 "metadata": {
  "accelerator": "GPU",
  "colab": {
   "gpuType": "T4",
   "provenance": []
  },
  "kernelspec": {
   "display_name": "hmd",
   "language": "python",
   "name": "python3"
  },
  "language_info": {
   "codemirror_mode": {
    "name": "ipython",
    "version": 3
   },
   "file_extension": ".py",
   "mimetype": "text/x-python",
   "name": "python",
   "nbconvert_exporter": "python",
   "pygments_lexer": "ipython3",
   "version": "3.10.13"
  },
  "widgets": {
   "application/vnd.jupyter.widget-state+json": {
    "032751c18c5947a28533b5c5a5576d80": {
     "model_module": "@jupyter-widgets/controls",
     "model_module_version": "1.5.0",
     "model_name": "DescriptionStyleModel",
     "state": {
      "_model_module": "@jupyter-widgets/controls",
      "_model_module_version": "1.5.0",
      "_model_name": "DescriptionStyleModel",
      "_view_count": null,
      "_view_module": "@jupyter-widgets/base",
      "_view_module_version": "1.2.0",
      "_view_name": "StyleView",
      "description_width": ""
     }
    },
    "04b24eeb1e4c46d1aa73e08dc1a57515": {
     "model_module": "@jupyter-widgets/base",
     "model_module_version": "1.2.0",
     "model_name": "LayoutModel",
     "state": {
      "_model_module": "@jupyter-widgets/base",
      "_model_module_version": "1.2.0",
      "_model_name": "LayoutModel",
      "_view_count": null,
      "_view_module": "@jupyter-widgets/base",
      "_view_module_version": "1.2.0",
      "_view_name": "LayoutView",
      "align_content": null,
      "align_items": null,
      "align_self": null,
      "border": null,
      "bottom": null,
      "display": null,
      "flex": null,
      "flex_flow": null,
      "grid_area": null,
      "grid_auto_columns": null,
      "grid_auto_flow": null,
      "grid_auto_rows": null,
      "grid_column": null,
      "grid_gap": null,
      "grid_row": null,
      "grid_template_areas": null,
      "grid_template_columns": null,
      "grid_template_rows": null,
      "height": null,
      "justify_content": null,
      "justify_items": null,
      "left": null,
      "margin": null,
      "max_height": null,
      "max_width": null,
      "min_height": null,
      "min_width": null,
      "object_fit": null,
      "object_position": null,
      "order": null,
      "overflow": null,
      "overflow_x": null,
      "overflow_y": null,
      "padding": null,
      "right": null,
      "top": null,
      "visibility": null,
      "width": null
     }
    },
    "06b9831997f944de96c5e76ca4c3da81": {
     "model_module": "@jupyter-widgets/controls",
     "model_module_version": "1.5.0",
     "model_name": "FloatProgressModel",
     "state": {
      "_dom_classes": [],
      "_model_module": "@jupyter-widgets/controls",
      "_model_module_version": "1.5.0",
      "_model_name": "FloatProgressModel",
      "_view_count": null,
      "_view_module": "@jupyter-widgets/controls",
      "_view_module_version": "1.5.0",
      "_view_name": "ProgressView",
      "bar_style": "success",
      "description": "",
      "description_tooltip": null,
      "layout": "IPY_MODEL_65d5e8fd7e9a45f483bbd55204b1ef0f",
      "max": 2,
      "min": 0,
      "orientation": "horizontal",
      "style": "IPY_MODEL_9a8faff6650f40bc891fcd1a2360532c",
      "value": 2
     }
    },
    "1f6e0617d70f409bb21908d52d6a0c1a": {
     "model_module": "@jupyter-widgets/base",
     "model_module_version": "1.2.0",
     "model_name": "LayoutModel",
     "state": {
      "_model_module": "@jupyter-widgets/base",
      "_model_module_version": "1.2.0",
      "_model_name": "LayoutModel",
      "_view_count": null,
      "_view_module": "@jupyter-widgets/base",
      "_view_module_version": "1.2.0",
      "_view_name": "LayoutView",
      "align_content": null,
      "align_items": null,
      "align_self": null,
      "border": null,
      "bottom": null,
      "display": null,
      "flex": null,
      "flex_flow": null,
      "grid_area": null,
      "grid_auto_columns": null,
      "grid_auto_flow": null,
      "grid_auto_rows": null,
      "grid_column": null,
      "grid_gap": null,
      "grid_row": null,
      "grid_template_areas": null,
      "grid_template_columns": null,
      "grid_template_rows": null,
      "height": null,
      "justify_content": null,
      "justify_items": null,
      "left": null,
      "margin": null,
      "max_height": null,
      "max_width": null,
      "min_height": null,
      "min_width": null,
      "object_fit": null,
      "object_position": null,
      "order": null,
      "overflow": null,
      "overflow_x": null,
      "overflow_y": null,
      "padding": null,
      "right": null,
      "top": null,
      "visibility": null,
      "width": null
     }
    },
    "298529c9a4214f26ab2bd9935dd89630": {
     "model_module": "@jupyter-widgets/base",
     "model_module_version": "1.2.0",
     "model_name": "LayoutModel",
     "state": {
      "_model_module": "@jupyter-widgets/base",
      "_model_module_version": "1.2.0",
      "_model_name": "LayoutModel",
      "_view_count": null,
      "_view_module": "@jupyter-widgets/base",
      "_view_module_version": "1.2.0",
      "_view_name": "LayoutView",
      "align_content": null,
      "align_items": null,
      "align_self": null,
      "border": null,
      "bottom": null,
      "display": null,
      "flex": null,
      "flex_flow": null,
      "grid_area": null,
      "grid_auto_columns": null,
      "grid_auto_flow": null,
      "grid_auto_rows": null,
      "grid_column": null,
      "grid_gap": null,
      "grid_row": null,
      "grid_template_areas": null,
      "grid_template_columns": null,
      "grid_template_rows": null,
      "height": null,
      "justify_content": null,
      "justify_items": null,
      "left": null,
      "margin": null,
      "max_height": null,
      "max_width": null,
      "min_height": null,
      "min_width": null,
      "object_fit": null,
      "object_position": null,
      "order": null,
      "overflow": null,
      "overflow_x": null,
      "overflow_y": null,
      "padding": null,
      "right": null,
      "top": null,
      "visibility": null,
      "width": null
     }
    },
    "2b7b981ff9054794943b066cb36ac951": {
     "model_module": "@jupyter-widgets/controls",
     "model_module_version": "1.5.0",
     "model_name": "HTMLModel",
     "state": {
      "_dom_classes": [],
      "_model_module": "@jupyter-widgets/controls",
      "_model_module_version": "1.5.0",
      "_model_name": "HTMLModel",
      "_view_count": null,
      "_view_module": "@jupyter-widgets/controls",
      "_view_module_version": "1.5.0",
      "_view_name": "HTMLView",
      "description": "",
      "description_tooltip": null,
      "layout": "IPY_MODEL_3567f0f289d045b1a8c525035975b6ff",
      "placeholder": "​",
      "style": "IPY_MODEL_598287ed5e4b430097ce2d11bb6eb721",
      "value": " 2/2 [05:52&lt;00:00, 160.33s/it]"
     }
    },
    "3567f0f289d045b1a8c525035975b6ff": {
     "model_module": "@jupyter-widgets/base",
     "model_module_version": "1.2.0",
     "model_name": "LayoutModel",
     "state": {
      "_model_module": "@jupyter-widgets/base",
      "_model_module_version": "1.2.0",
      "_model_name": "LayoutModel",
      "_view_count": null,
      "_view_module": "@jupyter-widgets/base",
      "_view_module_version": "1.2.0",
      "_view_name": "LayoutView",
      "align_content": null,
      "align_items": null,
      "align_self": null,
      "border": null,
      "bottom": null,
      "display": null,
      "flex": null,
      "flex_flow": null,
      "grid_area": null,
      "grid_auto_columns": null,
      "grid_auto_flow": null,
      "grid_auto_rows": null,
      "grid_column": null,
      "grid_gap": null,
      "grid_row": null,
      "grid_template_areas": null,
      "grid_template_columns": null,
      "grid_template_rows": null,
      "height": null,
      "justify_content": null,
      "justify_items": null,
      "left": null,
      "margin": null,
      "max_height": null,
      "max_width": null,
      "min_height": null,
      "min_width": null,
      "object_fit": null,
      "object_position": null,
      "order": null,
      "overflow": null,
      "overflow_x": null,
      "overflow_y": null,
      "padding": null,
      "right": null,
      "top": null,
      "visibility": null,
      "width": null
     }
    },
    "496f37f6e85a489ea428fed02a491898": {
     "model_module": "@jupyter-widgets/controls",
     "model_module_version": "1.5.0",
     "model_name": "ProgressStyleModel",
     "state": {
      "_model_module": "@jupyter-widgets/controls",
      "_model_module_version": "1.5.0",
      "_model_name": "ProgressStyleModel",
      "_view_count": null,
      "_view_module": "@jupyter-widgets/base",
      "_view_module_version": "1.2.0",
      "_view_name": "StyleView",
      "bar_color": null,
      "description_width": ""
     }
    },
    "53ed7b2ba46f43bfa9ab0fde19fc819f": {
     "model_module": "@jupyter-widgets/controls",
     "model_module_version": "1.5.0",
     "model_name": "ProgressStyleModel",
     "state": {
      "_model_module": "@jupyter-widgets/controls",
      "_model_module_version": "1.5.0",
      "_model_name": "ProgressStyleModel",
      "_view_count": null,
      "_view_module": "@jupyter-widgets/base",
      "_view_module_version": "1.2.0",
      "_view_name": "StyleView",
      "bar_color": null,
      "description_width": ""
     }
    },
    "598287ed5e4b430097ce2d11bb6eb721": {
     "model_module": "@jupyter-widgets/controls",
     "model_module_version": "1.5.0",
     "model_name": "DescriptionStyleModel",
     "state": {
      "_model_module": "@jupyter-widgets/controls",
      "_model_module_version": "1.5.0",
      "_model_name": "DescriptionStyleModel",
      "_view_count": null,
      "_view_module": "@jupyter-widgets/base",
      "_view_module_version": "1.2.0",
      "_view_name": "StyleView",
      "description_width": ""
     }
    },
    "5dae29c158f240e3b68695d2e326ab92": {
     "model_module": "@jupyter-widgets/controls",
     "model_module_version": "1.5.0",
     "model_name": "HTMLModel",
     "state": {
      "_dom_classes": [],
      "_model_module": "@jupyter-widgets/controls",
      "_model_module_version": "1.5.0",
      "_model_name": "HTMLModel",
      "_view_count": null,
      "_view_module": "@jupyter-widgets/controls",
      "_view_module_version": "1.5.0",
      "_view_name": "HTMLView",
      "description": "",
      "description_tooltip": null,
      "layout": "IPY_MODEL_b3c5d334d9544af9a96f71c2d37882f6",
      "placeholder": "​",
      "style": "IPY_MODEL_032751c18c5947a28533b5c5a5576d80",
      "value": "Loading checkpoint shards: 100%"
     }
    },
    "65d5e8fd7e9a45f483bbd55204b1ef0f": {
     "model_module": "@jupyter-widgets/base",
     "model_module_version": "1.2.0",
     "model_name": "LayoutModel",
     "state": {
      "_model_module": "@jupyter-widgets/base",
      "_model_module_version": "1.2.0",
      "_model_name": "LayoutModel",
      "_view_count": null,
      "_view_module": "@jupyter-widgets/base",
      "_view_module_version": "1.2.0",
      "_view_name": "LayoutView",
      "align_content": null,
      "align_items": null,
      "align_self": null,
      "border": null,
      "bottom": null,
      "display": null,
      "flex": null,
      "flex_flow": null,
      "grid_area": null,
      "grid_auto_columns": null,
      "grid_auto_flow": null,
      "grid_auto_rows": null,
      "grid_column": null,
      "grid_gap": null,
      "grid_row": null,
      "grid_template_areas": null,
      "grid_template_columns": null,
      "grid_template_rows": null,
      "height": null,
      "justify_content": null,
      "justify_items": null,
      "left": null,
      "margin": null,
      "max_height": null,
      "max_width": null,
      "min_height": null,
      "min_width": null,
      "object_fit": null,
      "object_position": null,
      "order": null,
      "overflow": null,
      "overflow_x": null,
      "overflow_y": null,
      "padding": null,
      "right": null,
      "top": null,
      "visibility": null,
      "width": null
     }
    },
    "83ad52b5eae44264a64109a9c4e72122": {
     "model_module": "@jupyter-widgets/controls",
     "model_module_version": "1.5.0",
     "model_name": "HTMLModel",
     "state": {
      "_dom_classes": [],
      "_model_module": "@jupyter-widgets/controls",
      "_model_module_version": "1.5.0",
      "_model_name": "HTMLModel",
      "_view_count": null,
      "_view_module": "@jupyter-widgets/controls",
      "_view_module_version": "1.5.0",
      "_view_name": "HTMLView",
      "description": "",
      "description_tooltip": null,
      "layout": "IPY_MODEL_298529c9a4214f26ab2bd9935dd89630",
      "placeholder": "​",
      "style": "IPY_MODEL_b6afe76da067454bac56d2b5b4a93729",
      "value": "Loading checkpoint shards: 100%"
     }
    },
    "882dda8de0e04421bf8c41efe0ff50d3": {
     "model_module": "@jupyter-widgets/controls",
     "model_module_version": "1.5.0",
     "model_name": "HTMLModel",
     "state": {
      "_dom_classes": [],
      "_model_module": "@jupyter-widgets/controls",
      "_model_module_version": "1.5.0",
      "_model_name": "HTMLModel",
      "_view_count": null,
      "_view_module": "@jupyter-widgets/controls",
      "_view_module_version": "1.5.0",
      "_view_name": "HTMLView",
      "description": "",
      "description_tooltip": null,
      "layout": "IPY_MODEL_91694bf4beac43ec8b51cab985541bc5",
      "placeholder": "​",
      "style": "IPY_MODEL_ce98c9fd13094cf7b755e1fba226a667",
      "value": "Loading checkpoint shards: 100%"
     }
    },
    "88d8d77ed5fa4a49a719716ee584de59": {
     "model_module": "@jupyter-widgets/base",
     "model_module_version": "1.2.0",
     "model_name": "LayoutModel",
     "state": {
      "_model_module": "@jupyter-widgets/base",
      "_model_module_version": "1.2.0",
      "_model_name": "LayoutModel",
      "_view_count": null,
      "_view_module": "@jupyter-widgets/base",
      "_view_module_version": "1.2.0",
      "_view_name": "LayoutView",
      "align_content": null,
      "align_items": null,
      "align_self": null,
      "border": null,
      "bottom": null,
      "display": null,
      "flex": null,
      "flex_flow": null,
      "grid_area": null,
      "grid_auto_columns": null,
      "grid_auto_flow": null,
      "grid_auto_rows": null,
      "grid_column": null,
      "grid_gap": null,
      "grid_row": null,
      "grid_template_areas": null,
      "grid_template_columns": null,
      "grid_template_rows": null,
      "height": null,
      "justify_content": null,
      "justify_items": null,
      "left": null,
      "margin": null,
      "max_height": null,
      "max_width": null,
      "min_height": null,
      "min_width": null,
      "object_fit": null,
      "object_position": null,
      "order": null,
      "overflow": null,
      "overflow_x": null,
      "overflow_y": null,
      "padding": null,
      "right": null,
      "top": null,
      "visibility": null,
      "width": null
     }
    },
    "8cbb0d9aa9f5415ea71fa5007eb55838": {
     "model_module": "@jupyter-widgets/controls",
     "model_module_version": "1.5.0",
     "model_name": "FloatProgressModel",
     "state": {
      "_dom_classes": [],
      "_model_module": "@jupyter-widgets/controls",
      "_model_module_version": "1.5.0",
      "_model_name": "FloatProgressModel",
      "_view_count": null,
      "_view_module": "@jupyter-widgets/controls",
      "_view_module_version": "1.5.0",
      "_view_name": "ProgressView",
      "bar_style": "success",
      "description": "",
      "description_tooltip": null,
      "layout": "IPY_MODEL_b5683cf5136b49ec982b634d4a0a2bb9",
      "max": 4,
      "min": 0,
      "orientation": "horizontal",
      "style": "IPY_MODEL_496f37f6e85a489ea428fed02a491898",
      "value": 4
     }
    },
    "91694bf4beac43ec8b51cab985541bc5": {
     "model_module": "@jupyter-widgets/base",
     "model_module_version": "1.2.0",
     "model_name": "LayoutModel",
     "state": {
      "_model_module": "@jupyter-widgets/base",
      "_model_module_version": "1.2.0",
      "_model_name": "LayoutModel",
      "_view_count": null,
      "_view_module": "@jupyter-widgets/base",
      "_view_module_version": "1.2.0",
      "_view_name": "LayoutView",
      "align_content": null,
      "align_items": null,
      "align_self": null,
      "border": null,
      "bottom": null,
      "display": null,
      "flex": null,
      "flex_flow": null,
      "grid_area": null,
      "grid_auto_columns": null,
      "grid_auto_flow": null,
      "grid_auto_rows": null,
      "grid_column": null,
      "grid_gap": null,
      "grid_row": null,
      "grid_template_areas": null,
      "grid_template_columns": null,
      "grid_template_rows": null,
      "height": null,
      "justify_content": null,
      "justify_items": null,
      "left": null,
      "margin": null,
      "max_height": null,
      "max_width": null,
      "min_height": null,
      "min_width": null,
      "object_fit": null,
      "object_position": null,
      "order": null,
      "overflow": null,
      "overflow_x": null,
      "overflow_y": null,
      "padding": null,
      "right": null,
      "top": null,
      "visibility": null,
      "width": null
     }
    },
    "93003d4a25da4177b871bfbe66c23e9a": {
     "model_module": "@jupyter-widgets/controls",
     "model_module_version": "1.5.0",
     "model_name": "HBoxModel",
     "state": {
      "_dom_classes": [],
      "_model_module": "@jupyter-widgets/controls",
      "_model_module_version": "1.5.0",
      "_model_name": "HBoxModel",
      "_view_count": null,
      "_view_module": "@jupyter-widgets/controls",
      "_view_module_version": "1.5.0",
      "_view_name": "HBoxView",
      "box_style": "",
      "children": [
       "IPY_MODEL_83ad52b5eae44264a64109a9c4e72122",
       "IPY_MODEL_ddc112f8799a42c8bfd8f72e712435c0",
       "IPY_MODEL_ef6f1daeebd24a1c82715a5aff77e967"
      ],
      "layout": "IPY_MODEL_88d8d77ed5fa4a49a719716ee584de59"
     }
    },
    "9a8faff6650f40bc891fcd1a2360532c": {
     "model_module": "@jupyter-widgets/controls",
     "model_module_version": "1.5.0",
     "model_name": "ProgressStyleModel",
     "state": {
      "_model_module": "@jupyter-widgets/controls",
      "_model_module_version": "1.5.0",
      "_model_name": "ProgressStyleModel",
      "_view_count": null,
      "_view_module": "@jupyter-widgets/base",
      "_view_module_version": "1.2.0",
      "_view_name": "StyleView",
      "bar_color": null,
      "description_width": ""
     }
    },
    "ad07bc379abc4bf2a733b0008c5356e0": {
     "model_module": "@jupyter-widgets/base",
     "model_module_version": "1.2.0",
     "model_name": "LayoutModel",
     "state": {
      "_model_module": "@jupyter-widgets/base",
      "_model_module_version": "1.2.0",
      "_model_name": "LayoutModel",
      "_view_count": null,
      "_view_module": "@jupyter-widgets/base",
      "_view_module_version": "1.2.0",
      "_view_name": "LayoutView",
      "align_content": null,
      "align_items": null,
      "align_self": null,
      "border": null,
      "bottom": null,
      "display": null,
      "flex": null,
      "flex_flow": null,
      "grid_area": null,
      "grid_auto_columns": null,
      "grid_auto_flow": null,
      "grid_auto_rows": null,
      "grid_column": null,
      "grid_gap": null,
      "grid_row": null,
      "grid_template_areas": null,
      "grid_template_columns": null,
      "grid_template_rows": null,
      "height": null,
      "justify_content": null,
      "justify_items": null,
      "left": null,
      "margin": null,
      "max_height": null,
      "max_width": null,
      "min_height": null,
      "min_width": null,
      "object_fit": null,
      "object_position": null,
      "order": null,
      "overflow": null,
      "overflow_x": null,
      "overflow_y": null,
      "padding": null,
      "right": null,
      "top": null,
      "visibility": null,
      "width": null
     }
    },
    "b3c5d334d9544af9a96f71c2d37882f6": {
     "model_module": "@jupyter-widgets/base",
     "model_module_version": "1.2.0",
     "model_name": "LayoutModel",
     "state": {
      "_model_module": "@jupyter-widgets/base",
      "_model_module_version": "1.2.0",
      "_model_name": "LayoutModel",
      "_view_count": null,
      "_view_module": "@jupyter-widgets/base",
      "_view_module_version": "1.2.0",
      "_view_name": "LayoutView",
      "align_content": null,
      "align_items": null,
      "align_self": null,
      "border": null,
      "bottom": null,
      "display": null,
      "flex": null,
      "flex_flow": null,
      "grid_area": null,
      "grid_auto_columns": null,
      "grid_auto_flow": null,
      "grid_auto_rows": null,
      "grid_column": null,
      "grid_gap": null,
      "grid_row": null,
      "grid_template_areas": null,
      "grid_template_columns": null,
      "grid_template_rows": null,
      "height": null,
      "justify_content": null,
      "justify_items": null,
      "left": null,
      "margin": null,
      "max_height": null,
      "max_width": null,
      "min_height": null,
      "min_width": null,
      "object_fit": null,
      "object_position": null,
      "order": null,
      "overflow": null,
      "overflow_x": null,
      "overflow_y": null,
      "padding": null,
      "right": null,
      "top": null,
      "visibility": null,
      "width": null
     }
    },
    "b5683cf5136b49ec982b634d4a0a2bb9": {
     "model_module": "@jupyter-widgets/base",
     "model_module_version": "1.2.0",
     "model_name": "LayoutModel",
     "state": {
      "_model_module": "@jupyter-widgets/base",
      "_model_module_version": "1.2.0",
      "_model_name": "LayoutModel",
      "_view_count": null,
      "_view_module": "@jupyter-widgets/base",
      "_view_module_version": "1.2.0",
      "_view_name": "LayoutView",
      "align_content": null,
      "align_items": null,
      "align_self": null,
      "border": null,
      "bottom": null,
      "display": null,
      "flex": null,
      "flex_flow": null,
      "grid_area": null,
      "grid_auto_columns": null,
      "grid_auto_flow": null,
      "grid_auto_rows": null,
      "grid_column": null,
      "grid_gap": null,
      "grid_row": null,
      "grid_template_areas": null,
      "grid_template_columns": null,
      "grid_template_rows": null,
      "height": null,
      "justify_content": null,
      "justify_items": null,
      "left": null,
      "margin": null,
      "max_height": null,
      "max_width": null,
      "min_height": null,
      "min_width": null,
      "object_fit": null,
      "object_position": null,
      "order": null,
      "overflow": null,
      "overflow_x": null,
      "overflow_y": null,
      "padding": null,
      "right": null,
      "top": null,
      "visibility": null,
      "width": null
     }
    },
    "b6afe76da067454bac56d2b5b4a93729": {
     "model_module": "@jupyter-widgets/controls",
     "model_module_version": "1.5.0",
     "model_name": "DescriptionStyleModel",
     "state": {
      "_model_module": "@jupyter-widgets/controls",
      "_model_module_version": "1.5.0",
      "_model_name": "DescriptionStyleModel",
      "_view_count": null,
      "_view_module": "@jupyter-widgets/base",
      "_view_module_version": "1.2.0",
      "_view_name": "StyleView",
      "description_width": ""
     }
    },
    "be373cf06ffa440b8c2988fd5d4800d7": {
     "model_module": "@jupyter-widgets/base",
     "model_module_version": "1.2.0",
     "model_name": "LayoutModel",
     "state": {
      "_model_module": "@jupyter-widgets/base",
      "_model_module_version": "1.2.0",
      "_model_name": "LayoutModel",
      "_view_count": null,
      "_view_module": "@jupyter-widgets/base",
      "_view_module_version": "1.2.0",
      "_view_name": "LayoutView",
      "align_content": null,
      "align_items": null,
      "align_self": null,
      "border": null,
      "bottom": null,
      "display": null,
      "flex": null,
      "flex_flow": null,
      "grid_area": null,
      "grid_auto_columns": null,
      "grid_auto_flow": null,
      "grid_auto_rows": null,
      "grid_column": null,
      "grid_gap": null,
      "grid_row": null,
      "grid_template_areas": null,
      "grid_template_columns": null,
      "grid_template_rows": null,
      "height": null,
      "justify_content": null,
      "justify_items": null,
      "left": null,
      "margin": null,
      "max_height": null,
      "max_width": null,
      "min_height": null,
      "min_width": null,
      "object_fit": null,
      "object_position": null,
      "order": null,
      "overflow": null,
      "overflow_x": null,
      "overflow_y": null,
      "padding": null,
      "right": null,
      "top": null,
      "visibility": null,
      "width": null
     }
    },
    "c3404f762598443da0f147f33cae755d": {
     "model_module": "@jupyter-widgets/controls",
     "model_module_version": "1.5.0",
     "model_name": "HBoxModel",
     "state": {
      "_dom_classes": [],
      "_model_module": "@jupyter-widgets/controls",
      "_model_module_version": "1.5.0",
      "_model_name": "HBoxModel",
      "_view_count": null,
      "_view_module": "@jupyter-widgets/controls",
      "_view_module_version": "1.5.0",
      "_view_name": "HBoxView",
      "box_style": "",
      "children": [
       "IPY_MODEL_5dae29c158f240e3b68695d2e326ab92",
       "IPY_MODEL_06b9831997f944de96c5e76ca4c3da81",
       "IPY_MODEL_2b7b981ff9054794943b066cb36ac951"
      ],
      "layout": "IPY_MODEL_ad07bc379abc4bf2a733b0008c5356e0"
     }
    },
    "cbe05d191acd4370854a45df64b1065c": {
     "model_module": "@jupyter-widgets/controls",
     "model_module_version": "1.5.0",
     "model_name": "HTMLModel",
     "state": {
      "_dom_classes": [],
      "_model_module": "@jupyter-widgets/controls",
      "_model_module_version": "1.5.0",
      "_model_name": "HTMLModel",
      "_view_count": null,
      "_view_module": "@jupyter-widgets/controls",
      "_view_module_version": "1.5.0",
      "_view_name": "HTMLView",
      "description": "",
      "description_tooltip": null,
      "layout": "IPY_MODEL_04b24eeb1e4c46d1aa73e08dc1a57515",
      "placeholder": "​",
      "style": "IPY_MODEL_cd1048c02e2e49cc88bd49f8bfe3347e",
      "value": " 4/4 [07:14&lt;00:00, 228.55s/it]"
     }
    },
    "cd1048c02e2e49cc88bd49f8bfe3347e": {
     "model_module": "@jupyter-widgets/controls",
     "model_module_version": "1.5.0",
     "model_name": "DescriptionStyleModel",
     "state": {
      "_model_module": "@jupyter-widgets/controls",
      "_model_module_version": "1.5.0",
      "_model_name": "DescriptionStyleModel",
      "_view_count": null,
      "_view_module": "@jupyter-widgets/base",
      "_view_module_version": "1.2.0",
      "_view_name": "StyleView",
      "description_width": ""
     }
    },
    "ce98c9fd13094cf7b755e1fba226a667": {
     "model_module": "@jupyter-widgets/controls",
     "model_module_version": "1.5.0",
     "model_name": "DescriptionStyleModel",
     "state": {
      "_model_module": "@jupyter-widgets/controls",
      "_model_module_version": "1.5.0",
      "_model_name": "DescriptionStyleModel",
      "_view_count": null,
      "_view_module": "@jupyter-widgets/base",
      "_view_module_version": "1.2.0",
      "_view_name": "StyleView",
      "description_width": ""
     }
    },
    "d0bb3f0aca524832bf613ef3f1275ade": {
     "model_module": "@jupyter-widgets/base",
     "model_module_version": "1.2.0",
     "model_name": "LayoutModel",
     "state": {
      "_model_module": "@jupyter-widgets/base",
      "_model_module_version": "1.2.0",
      "_model_name": "LayoutModel",
      "_view_count": null,
      "_view_module": "@jupyter-widgets/base",
      "_view_module_version": "1.2.0",
      "_view_name": "LayoutView",
      "align_content": null,
      "align_items": null,
      "align_self": null,
      "border": null,
      "bottom": null,
      "display": null,
      "flex": null,
      "flex_flow": null,
      "grid_area": null,
      "grid_auto_columns": null,
      "grid_auto_flow": null,
      "grid_auto_rows": null,
      "grid_column": null,
      "grid_gap": null,
      "grid_row": null,
      "grid_template_areas": null,
      "grid_template_columns": null,
      "grid_template_rows": null,
      "height": null,
      "justify_content": null,
      "justify_items": null,
      "left": null,
      "margin": null,
      "max_height": null,
      "max_width": null,
      "min_height": null,
      "min_width": null,
      "object_fit": null,
      "object_position": null,
      "order": null,
      "overflow": null,
      "overflow_x": null,
      "overflow_y": null,
      "padding": null,
      "right": null,
      "top": null,
      "visibility": null,
      "width": null
     }
    },
    "d2b18283577248749538e8ff16f65e54": {
     "model_module": "@jupyter-widgets/controls",
     "model_module_version": "1.5.0",
     "model_name": "DescriptionStyleModel",
     "state": {
      "_model_module": "@jupyter-widgets/controls",
      "_model_module_version": "1.5.0",
      "_model_name": "DescriptionStyleModel",
      "_view_count": null,
      "_view_module": "@jupyter-widgets/base",
      "_view_module_version": "1.2.0",
      "_view_name": "StyleView",
      "description_width": ""
     }
    },
    "d5d74bf13b5b4305beec14186a320349": {
     "model_module": "@jupyter-widgets/controls",
     "model_module_version": "1.5.0",
     "model_name": "HBoxModel",
     "state": {
      "_dom_classes": [],
      "_model_module": "@jupyter-widgets/controls",
      "_model_module_version": "1.5.0",
      "_model_name": "HBoxModel",
      "_view_count": null,
      "_view_module": "@jupyter-widgets/controls",
      "_view_module_version": "1.5.0",
      "_view_name": "HBoxView",
      "box_style": "",
      "children": [
       "IPY_MODEL_882dda8de0e04421bf8c41efe0ff50d3",
       "IPY_MODEL_8cbb0d9aa9f5415ea71fa5007eb55838",
       "IPY_MODEL_cbe05d191acd4370854a45df64b1065c"
      ],
      "layout": "IPY_MODEL_1f6e0617d70f409bb21908d52d6a0c1a"
     }
    },
    "ddc112f8799a42c8bfd8f72e712435c0": {
     "model_module": "@jupyter-widgets/controls",
     "model_module_version": "1.5.0",
     "model_name": "FloatProgressModel",
     "state": {
      "_dom_classes": [],
      "_model_module": "@jupyter-widgets/controls",
      "_model_module_version": "1.5.0",
      "_model_name": "FloatProgressModel",
      "_view_count": null,
      "_view_module": "@jupyter-widgets/controls",
      "_view_module_version": "1.5.0",
      "_view_name": "ProgressView",
      "bar_style": "success",
      "description": "",
      "description_tooltip": null,
      "layout": "IPY_MODEL_d0bb3f0aca524832bf613ef3f1275ade",
      "max": 2,
      "min": 0,
      "orientation": "horizontal",
      "style": "IPY_MODEL_53ed7b2ba46f43bfa9ab0fde19fc819f",
      "value": 2
     }
    },
    "ef6f1daeebd24a1c82715a5aff77e967": {
     "model_module": "@jupyter-widgets/controls",
     "model_module_version": "1.5.0",
     "model_name": "HTMLModel",
     "state": {
      "_dom_classes": [],
      "_model_module": "@jupyter-widgets/controls",
      "_model_module_version": "1.5.0",
      "_model_name": "HTMLModel",
      "_view_count": null,
      "_view_module": "@jupyter-widgets/controls",
      "_view_module_version": "1.5.0",
      "_view_name": "HTMLView",
      "description": "",
      "description_tooltip": null,
      "layout": "IPY_MODEL_be373cf06ffa440b8c2988fd5d4800d7",
      "placeholder": "​",
      "style": "IPY_MODEL_d2b18283577248749538e8ff16f65e54",
      "value": " 2/2 [03:17&lt;00:00, 100.85s/it]"
     }
    }
   }
  }
 },
 "nbformat": 4,
 "nbformat_minor": 5
}
